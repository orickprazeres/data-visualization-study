{
  "nbformat": 4,
  "nbformat_minor": 0,
  "metadata": {
    "colab": {
      "provenance": [],
      "include_colab_link": true
    },
    "kernelspec": {
      "name": "python3",
      "display_name": "Python 3"
    }
  },
  "cells": [
    {
      "cell_type": "markdown",
      "metadata": {
        "id": "view-in-github",
        "colab_type": "text"
      },
      "source": [
        "<a href=\"https://colab.research.google.com/github/orickprazeres/data-visualization-study/blob/main/Gr%C3%A1fico_de_Waffle.ipynb\" target=\"_parent\"><img src=\"https://colab.research.google.com/assets/colab-badge.svg\" alt=\"Open In Colab\"/></a>"
      ]
    },
    {
      "cell_type": "markdown",
      "metadata": {
        "id": "Runk5zGmSRp8"
      },
      "source": [
        "<img alt=\"Colaboratory logo\" width=\"15%\" src=\"https://raw.githubusercontent.com/carlosfab/escola-data-science/master/img/novo_logo_bg_claro.png\">\n",
        "\n",
        "#### **Python do Zero**\n",
        "*by [sigmoidal.ai](https://sigmoidal.ai)*\n",
        "\n",
        "---\n",
        "\n",
        "# Gráfico de Waffle\n",
        "\n",
        "Se o nome não é familiar, com certeza você já viu vários exemplos de *waffle charts* em sites, revistas e jornais, pois eles não apenas transmitem informações claramente, mas são visualmente mais impactantes que gráficos de barras ou pizza.\n",
        "\n",
        "<img src=\"https://sigmoidal.ai/wp-content/uploads/2022/06/bolacha_biscoito.png\" height=\"250px\">\n",
        "\n",
        "A figura acima mostra como a biblioteca `pywaffle` foi usada para mostrar pictorialmente o resultado das eleições dos EUA em 2016.\n",
        "\n",
        "Pode reparar, os grandes meios de comunicação preferem esse tipo de visualização, pois nem todo mundo está acostumado a interpretar gráficos de linhas ou barras.\n",
        "\n",
        "Como vamos ver abaixo, a biblioteca tem muitas outras formas de customização, e recomendo você incluir ela no seu arsenal de ferramentas."
      ]
    },
    {
      "cell_type": "markdown",
      "metadata": {
        "id": "UNUcoeIgSanO"
      },
      "source": [
        "## Usando `pywaffle` para criar gráficos de waffle\n",
        "\n",
        "Infelizmente, gráficos de waffle não vêm junto com a biblioteca `matplotlib`. A melhor alternatica que eu conheço é o pacote `pywaffle`, uma vez que ele se integra perfeitamente ao `matplotlib`.\n",
        "\n",
        "[Bem documentada](https://github.com/gyli/PyWaffle) e com vários exemplos de aplicação, em poucas linhas de código você já consegue plotar seu primeiro gráfico.\n",
        "\n",
        "Ah sim, verifique antes se você têm ela instalada no seu ambiente. Caso contrário, basta instalar usando o conda (`conda install pywaffle`) ou pip (`pip install pywaffle`)."
      ]
    },
    {
      "cell_type": "code",
      "metadata": {
        "id": "4pCSZoidSBPd",
        "colab": {
          "base_uri": "https://localhost:8080/"
        },
        "outputId": "805bd02f-e7b8-4f0c-c892-d7d5c2198338"
      },
      "source": [
        "# instalar o pywaffle\n",
        "!pip install pywaffle"
      ],
      "execution_count": 1,
      "outputs": [
        {
          "output_type": "stream",
          "name": "stdout",
          "text": [
            "Looking in indexes: https://pypi.org/simple, https://us-python.pkg.dev/colab-wheels/public/simple/\n",
            "Collecting pywaffle\n",
            "  Downloading pywaffle-1.1.0-py2.py3-none-any.whl (30 kB)\n",
            "Collecting fontawesomefree\n",
            "  Downloading fontawesomefree-6.2.1-py3-none-any.whl (25.1 MB)\n",
            "\u001b[2K     \u001b[90m━━━━━━━━━━━━━━━━━━━━━━━━━━━━━━━━━━━━━━━━\u001b[0m \u001b[32m25.1/25.1 MB\u001b[0m \u001b[31m49.1 MB/s\u001b[0m eta \u001b[36m0:00:00\u001b[0m\n",
            "\u001b[?25hRequirement already satisfied: matplotlib in /usr/local/lib/python3.8/dist-packages (from pywaffle) (3.2.2)\n",
            "Requirement already satisfied: pyparsing!=2.0.4,!=2.1.2,!=2.1.6,>=2.0.1 in /usr/local/lib/python3.8/dist-packages (from matplotlib->pywaffle) (3.0.9)\n",
            "Requirement already satisfied: cycler>=0.10 in /usr/local/lib/python3.8/dist-packages (from matplotlib->pywaffle) (0.11.0)\n",
            "Requirement already satisfied: kiwisolver>=1.0.1 in /usr/local/lib/python3.8/dist-packages (from matplotlib->pywaffle) (1.4.4)\n",
            "Requirement already satisfied: python-dateutil>=2.1 in /usr/local/lib/python3.8/dist-packages (from matplotlib->pywaffle) (2.8.2)\n",
            "Requirement already satisfied: numpy>=1.11 in /usr/local/lib/python3.8/dist-packages (from matplotlib->pywaffle) (1.21.6)\n",
            "Requirement already satisfied: six>=1.5 in /usr/local/lib/python3.8/dist-packages (from python-dateutil>=2.1->matplotlib->pywaffle) (1.15.0)\n",
            "Installing collected packages: fontawesomefree, pywaffle\n",
            "Successfully installed fontawesomefree-6.2.1 pywaffle-1.1.0\n"
          ]
        }
      ]
    },
    {
      "cell_type": "markdown",
      "metadata": {
        "id": "P6Fc3I_zSemi"
      },
      "source": [
        "Vamos supor que uma pesquisa muito séria da Folha de São Paulo identificou que 33% dos brasileiros falam Bolacha, 48% falam Biscoito e uma minoria de 19% fala Salgadinho.\n",
        "\n",
        "No lugar de plotar um manjado gráfico de pizza, olha como ficaria usando o gráfico de waffle."
      ]
    },
    {
      "cell_type": "code",
      "metadata": {
        "id": "dUnMMN1VSdok",
        "colab": {
          "base_uri": "https://localhost:8080/",
          "height": 161
        },
        "outputId": "0a8c9bab-3a9a-4b68-ea97-fc401e359817"
      },
      "source": [
        "# importar as bibliotecas necessárias\n",
        "import matplotlib.pyplot as plt\n",
        "from pywaffle import Waffle\n",
        "\n",
        "# exemplo de Waffle\n",
        "fig = plt.figure(\n",
        "                FigureClass= Waffle,\n",
        "                rows= 4,\n",
        "                columns= 10,\n",
        "                values={'Bolacha': 33,\n",
        "                        'Biscoito': 48,\n",
        "                        'Salgadinho': 19},\n",
        "                legend={'loc': 'upper left',\n",
        "                        'bbox_to_anchor': (1.1, 1)}\n",
        "                )\n",
        "\n",
        "fig.set_tight_layout(False)\n",
        "plt.show()"
      ],
      "execution_count": 8,
      "outputs": [
        {
          "output_type": "display_data",
          "data": {
            "text/plain": [
              "<Waffle size 432x288 with 1 Axes>"
            ],
            "image/png": "[encoded data removed]"
          },
          "metadata": {
            "needs_background": "light"
          }
        }
      ]
    },
    {
      "cell_type": "markdown",
      "metadata": {
        "id": "4kQgIpvVSlxF"
      },
      "source": [
        "## Customizando seus gráficos de waffle\n",
        "\n",
        "O `pywaffle` é altamente customizado e aceita os ícones da [Font Awesome](http://fontawesome.io/).\n",
        "\n",
        "Vamos ver como customizar os ícones da biblioteca para representar as estatísticas de ocorrências e acidentes com aviões no Brasil. Para isso, vou importar a [base de dados do Centro de Prevenção e Investigação de Acidentes Aeronáuticos](http://www2.fab.mil.br/cenipa/index.php/estatisticas).\n",
        "\n"
      ]
    },
    {
      "cell_type": "code",
      "metadata": {
        "id": "iiJ0clFZSjG1",
        "colab": {
          "base_uri": "https://localhost:8080/",
          "height": 114
        },
        "outputId": "2f82a76c-87bb-4306-9380-16e2c3a3e27b"
      },
      "source": [
        "# importar o pandas\n",
        "import pandas as pd\n",
        "\n",
        "# importar dados do CENIPA\n",
        "df = pd.read_csv(\"https://raw.githubusercontent.com/carlosfab/dsnp2/master/datasets/ocorrencias_aviacao.csv\")\n",
        "\n",
        "# extrair value counts da variavel ocorrencia_classificacao\n",
        "data = dict(df[\"ocorrencia_classificacao\"].value_counts())\n",
        "\n",
        "# plotar gráfico de waffle\n",
        "fig = plt.figure(\n",
        "                FigureClass=Waffle,\n",
        "                rows= 5,\n",
        "                columns= 20,\n",
        "                colors=(\"#232066\", \"#983D3D\", \"#DCB732\"),\n",
        "                values= data, icons= 'plane', icon_size= 12,\n",
        "                legend={'loc': 'upper left', 'bbox_to_anchor': (1,1)},\n",
        "                icon_legend=True\n",
        "                )\n",
        "fig.set_tight_layout(False)\n",
        "plt.show();"
      ],
      "execution_count": 9,
      "outputs": [
        {
          "output_type": "display_data",
          "data": {
            "text/plain": [
              "<Waffle size 432x288 with 1 Axes>"
            ],
            "image/png": "[encoded data removed]"
          },
          "metadata": {
            "needs_background": "light"
          }
        }
      ]
    },
    {
      "cell_type": "markdown",
      "metadata": {
        "id": "0-aTsBqLSs-h"
      },
      "source": [
        "Na figura acima, eu selecionei o ícone `plane`, que é apenas um entre inúmeros outros disponíveis.\n",
        "\n",
        "Em outro exemplo, suponha que você quer representar por *waffle chart* a quantidade de homens e mulheres que estão matriculados em um determinado curso de ingles. Repare que eu vou usar o ícone `child`."
      ]
    },
    {
      "cell_type": "code",
      "metadata": {
        "id": "ZWrXi9DOSqpi",
        "colab": {
          "base_uri": "https://localhost:8080/",
          "height": 222
        },
        "outputId": "6ee960a0-dfa1-45c9-802b-d23414398548"
      },
      "source": [
        "# plotar homens e mulheres na sala de aula\n",
        "fig = plt.figure(\n",
        "    FigureClass=Waffle, \n",
        "    rows=8, \n",
        "    values={'Homens': 48, 'Mulheres': 58}, \n",
        "    colors=(\"#232066\", \"#983D3D\"),\n",
        "    legend={'loc': 'upper left', 'bbox_to_anchor': (1, 1)},\n",
        "    icons='child', icon_size=12, \n",
        "    icon_legend=True\n",
        ")\n",
        "\n",
        "fig.set_tight_layout(False)\n",
        "plt.show();"
      ],
      "execution_count": 4,
      "outputs": [
        {
          "output_type": "display_data",
          "data": {
            "text/plain": [
              "<Waffle size 432x288 with 1 Axes>"
            ],
            "image/png": "[encoded data removed]"
          },
          "metadata": {
            "needs_background": "light"
          }
        }
      ]
    },
    {
      "cell_type": "code",
      "metadata": {
        "id": "JmNUXtaqSvd6"
      },
      "source": [],
      "execution_count": 4,
      "outputs": []
    }
  ]
}